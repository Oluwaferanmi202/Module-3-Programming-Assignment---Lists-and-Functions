{
 "cells": [
  {
   "cell_type": "code",
   "execution_count": 2,
   "id": "a052995d-c71d-4b58-b718-53279b403fe4",
   "metadata": {},
   "outputs": [],
   "source": [
    "# 7.4\n",
    "things = [\"mozzarella\", \"cinderella\", \"salmonella\"]"
   ]
  },
  {
   "cell_type": "code",
   "execution_count": 3,
   "id": "7a6aeec3-ddc2-46ab-9ece-43e0280fcba6",
   "metadata": {},
   "outputs": [
    {
     "name": "stdout",
     "output_type": "stream",
     "text": [
      "['mozzarella', 'Cinderella', 'salmonella']\n"
     ]
    }
   ],
   "source": [
    "# 7.5\n",
    "things[1] = things[1].capitalize()  # Capitalize \"cinderella\"\n",
    "print(things)  # Output: ['mozzarella', 'Cinderella', 'salmonella']"
   ]
  },
  {
   "cell_type": "code",
   "execution_count": 5,
   "id": "cce01fdb-54f1-4a22-a89d-ecaa6828b6fe",
   "metadata": {},
   "outputs": [
    {
     "name": "stdout",
     "output_type": "stream",
     "text": [
      "['MOZZARELLA', 'Cinderella', 'salmonella']\n"
     ]
    }
   ],
   "source": [
    "# 7.6\n",
    "things[0] = things[0].upper()  # Make \"mozzarella\" uppercase\n",
    "print(things)  # Output: ['MOZZARELLA', 'Cinderella', 'salmonella']"
   ]
  },
  {
   "cell_type": "code",
   "execution_count": 6,
   "id": "b8945ce0-64eb-4910-8842-e476fd78ed1a",
   "metadata": {},
   "outputs": [
    {
     "name": "stdout",
     "output_type": "stream",
     "text": [
      "['MOZZARELLA', 'Cinderella']\n"
     ]
    }
   ],
   "source": [
    "# 7.7\n",
    "del things[2]  # Delete \"salmonella\"\n",
    "print(things)  # Output: ['MOZZARELLA', 'Cinderella']\n",
    "# Nobel Prize collected (imaginary, of course!)"
   ]
  },
  {
   "cell_type": "code",
   "execution_count": 8,
   "id": "190f2b7e-9459-4616-a2d9-cdf7467fd35e",
   "metadata": {},
   "outputs": [],
   "source": [
    "# 9.1\n",
    "def good():\n",
    "    return ['Harry', 'Ron', 'Hermione']"
   ]
  },
  {
   "cell_type": "code",
   "execution_count": 11,
   "id": "f643f0c6-68c7-405d-8ee2-fbe442ea87f0",
   "metadata": {},
   "outputs": [
    {
     "name": "stdout",
     "output_type": "stream",
     "text": [
      "5\n"
     ]
    }
   ],
   "source": [
    "# 9.2\n",
    "def get_odds():\n",
    "    for number in range(10):\n",
    "        if number % 2 != 0:\n",
    "            yield number\n",
    "\n",
    "odds_generator = get_odds()\n",
    "count = 0\n",
    "for odd_number in odds_generator:\n",
    "    count += 1\n",
    "    if count == 3:\n",
    "        print(odd_number)  # Output: 5\n",
    "        break #Stop after the third value is found"
   ]
  }
 ],
 "metadata": {
  "kernelspec": {
   "display_name": "Python 3 (ipykernel)",
   "language": "python",
   "name": "python3"
  },
  "language_info": {
   "codemirror_mode": {
    "name": "ipython",
    "version": 3
   },
   "file_extension": ".py",
   "mimetype": "text/x-python",
   "name": "python",
   "nbconvert_exporter": "python",
   "pygments_lexer": "ipython3",
   "version": "3.12.7"
  }
 },
 "nbformat": 4,
 "nbformat_minor": 5
}
